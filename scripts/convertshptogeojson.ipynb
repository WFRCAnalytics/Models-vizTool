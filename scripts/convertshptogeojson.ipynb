{
 "cells": [
  {
   "cell_type": "code",
   "execution_count": 3,
   "metadata": {},
   "outputs": [],
   "source": [
    "import geopandas as gpd\n",
    "\n",
    "def convert_shp_to_geojson(shp_path, geojson_path):\n",
    "    # Read the shapefile\n",
    "    gdf = gpd.read_file(shp_path)\n",
    "    \n",
    "    # Reproject to WGS 84 (EPSG:4326)\n",
    "    gdf = gdf.to_crs(epsg=4326)\n",
    "    \n",
    "    # Convert to GeoJSON and save it to the specified path\n",
    "    gdf.to_file(geojson_path, driver='GeoJSON')\n",
    "\n",
    "# Specify the paths\n",
    "shp_path = '_site/data/hexgrid.shp'\n",
    "geojson_path = '_site/data/hexgrid.geojson'\n",
    "\n",
    "# Perform the conversion\n",
    "convert_shp_to_geojson(shp_path, geojson_path)\n"
   ]
  }
 ],
 "metadata": {
  "kernelspec": {
   "display_name": "base",
   "language": "python",
   "name": "python3"
  },
  "language_info": {
   "codemirror_mode": {
    "name": "ipython",
    "version": 3
   },
   "file_extension": ".py",
   "mimetype": "text/x-python",
   "name": "python",
   "nbconvert_exporter": "python",
   "pygments_lexer": "ipython3",
   "version": "3.9.13"
  },
  "orig_nbformat": 4
 },
 "nbformat": 4,
 "nbformat_minor": 2
}
