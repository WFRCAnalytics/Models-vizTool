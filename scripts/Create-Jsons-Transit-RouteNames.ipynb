{
 "cells": [
  {
   "cell_type": "code",
   "execution_count": 2,
   "metadata": {},
   "outputs": [],
   "source": [
    "import pandas as pd\n",
    "import os"
   ]
  },
  {
   "cell_type": "code",
   "execution_count": 3,
   "metadata": {},
   "outputs": [],
   "source": [
    "segSummaries =  \"../data/transitSummaries/segments\"\n",
    "scnJson = \"../_site/scenarios.json\""
   ]
  },
  {
   "cell_type": "code",
   "execution_count": 4,
   "metadata": {},
   "outputs": [
    {
     "data": {
      "text/html": [
       "<div>\n",
       "<style scoped>\n",
       "    .dataframe tbody tr th:only-of-type {\n",
       "        vertical-align: middle;\n",
       "    }\n",
       "\n",
       "    .dataframe tbody tr th {\n",
       "        vertical-align: top;\n",
       "    }\n",
       "\n",
       "    .dataframe thead th {\n",
       "        text-align: right;\n",
       "    }\n",
       "</style>\n",
       "<table border=\"1\" class=\"dataframe\">\n",
       "  <thead>\n",
       "    <tr style=\"text-align: right;\">\n",
       "      <th></th>\n",
       "      <th>modVersion</th>\n",
       "      <th>scnGroup</th>\n",
       "      <th>scnYear</th>\n",
       "    </tr>\n",
       "  </thead>\n",
       "  <tbody>\n",
       "    <tr>\n",
       "      <th>0</th>\n",
       "      <td>v900</td>\n",
       "      <td>Base</td>\n",
       "      <td>2019</td>\n",
       "    </tr>\n",
       "    <tr>\n",
       "      <th>1</th>\n",
       "      <td>v900</td>\n",
       "      <td>Base</td>\n",
       "      <td>2023</td>\n",
       "    </tr>\n",
       "    <tr>\n",
       "      <th>2</th>\n",
       "      <td>v900</td>\n",
       "      <td>TIP</td>\n",
       "      <td>2028</td>\n",
       "    </tr>\n",
       "    <tr>\n",
       "      <th>3</th>\n",
       "      <td>v900</td>\n",
       "      <td>RTP</td>\n",
       "      <td>2032</td>\n",
       "    </tr>\n",
       "    <tr>\n",
       "      <th>4</th>\n",
       "      <td>v900</td>\n",
       "      <td>RTP</td>\n",
       "      <td>2042</td>\n",
       "    </tr>\n",
       "    <tr>\n",
       "      <th>5</th>\n",
       "      <td>v900</td>\n",
       "      <td>RTP</td>\n",
       "      <td>2050</td>\n",
       "    </tr>\n",
       "    <tr>\n",
       "      <th>6</th>\n",
       "      <td>v900</td>\n",
       "      <td>NoBuild</td>\n",
       "      <td>2032</td>\n",
       "    </tr>\n",
       "    <tr>\n",
       "      <th>7</th>\n",
       "      <td>v900</td>\n",
       "      <td>NoBuild</td>\n",
       "      <td>2042</td>\n",
       "    </tr>\n",
       "    <tr>\n",
       "      <th>8</th>\n",
       "      <td>v900</td>\n",
       "      <td>NoBuild</td>\n",
       "      <td>2050</td>\n",
       "    </tr>\n",
       "    <tr>\n",
       "      <th>9</th>\n",
       "      <td>v900</td>\n",
       "      <td>Needs</td>\n",
       "      <td>2032</td>\n",
       "    </tr>\n",
       "    <tr>\n",
       "      <th>10</th>\n",
       "      <td>v900</td>\n",
       "      <td>Needs</td>\n",
       "      <td>2042</td>\n",
       "    </tr>\n",
       "    <tr>\n",
       "      <th>11</th>\n",
       "      <td>v900</td>\n",
       "      <td>Needs</td>\n",
       "      <td>2050</td>\n",
       "    </tr>\n",
       "    <tr>\n",
       "      <th>12</th>\n",
       "      <td>v900</td>\n",
       "      <td>Needs MAG</td>\n",
       "      <td>2050</td>\n",
       "    </tr>\n",
       "  </tbody>\n",
       "</table>\n",
       "</div>"
      ],
      "text/plain": [
       "   modVersion   scnGroup  scnYear\n",
       "0        v900       Base     2019\n",
       "1        v900       Base     2023\n",
       "2        v900        TIP     2028\n",
       "3        v900        RTP     2032\n",
       "4        v900        RTP     2042\n",
       "5        v900        RTP     2050\n",
       "6        v900    NoBuild     2032\n",
       "7        v900    NoBuild     2042\n",
       "8        v900    NoBuild     2050\n",
       "9        v900      Needs     2032\n",
       "10       v900      Needs     2042\n",
       "11       v900      Needs     2050\n",
       "12       v900  Needs MAG     2050"
      ]
     },
     "metadata": {},
     "output_type": "display_data"
    }
   ],
   "source": [
    "dfScn = pd.read_json(scnJson)\n",
    "dfScn = dfScn[['modVersion','scnGroup','scnYear']]\n",
    "display(dfScn)"
   ]
  },
  {
   "cell_type": "code",
   "execution_count": 7,
   "metadata": {},
   "outputs": [
    {
     "name": "stdout",
     "output_type": "stream",
     "text": [
      "Directory already made: ../_site/data/scnData\\v900__Base__2019\n",
      "Directory already made: ../_site/data/scnData\\v900__Base__2023\n",
      "Directory already made: ../_site/data/scnData\\v900__TIP__2028\n",
      "Directory already made: ../_site/data/scnData\\v900__RTP__2032\n",
      "Directory already made: ../_site/data/scnData\\v900__RTP__2042\n",
      "Directory already made: ../_site/data/scnData\\v900__RTP__2050\n",
      "Directory already made: ../_site/data/scnData\\v900__NoBuild__2032\n",
      "Directory already made: ../_site/data/scnData\\v900__NoBuild__2042\n",
      "Directory already made: ../_site/data/scnData\\v900__NoBuild__2050\n",
      "Directory already made: ../_site/data/scnData\\v900__Needs__2032\n",
      "Directory already made: ../_site/data/scnData\\v900__Needs__2042\n",
      "Directory already made: ../_site/data/scnData\\v900__Needs__2050\n",
      "Directory already made: ../_site/data/scnData\\v900__Needs MAG__2050\n"
     ]
    }
   ],
   "source": [
    "# create folders\n",
    "# Define a root directory where you want to create subfolders\n",
    "root_dir = '../_site/data/scnData'\n",
    "\n",
    "# Ensure the root directory exists\n",
    "if not os.path.exists(root_dir):\n",
    "    os.makedirs(root_dir)\n",
    "\n",
    "# Loop through the dataframe and create subfolders\n",
    "for index, row in dfScn.iterrows():\n",
    "    folder_name = f\"{row['modVersion']}__{row['scnGroup']}__{row['scnYear']}\"\n",
    "    full_path = os.path.join(root_dir, folder_name)\n",
    "    \n",
    "    if not os.path.exists(full_path):\n",
    "        os.makedirs(full_path)\n",
    "        print('Making directory: ' + full_path)\n",
    "    else:\n",
    "        print('Directory already made: ' + full_path)\n"
   ]
  },
  {
   "cell_type": "code",
   "execution_count": 10,
   "metadata": {},
   "outputs": [
    {
     "data": {
      "text/plain": [
       "'../_site/data/scnData/v900__Base__2019/transit-route-names.json'"
      ]
     },
     "metadata": {},
     "output_type": "display_data"
    },
    {
     "name": "stdout",
     "output_type": "stream",
     "text": [
      "v900__Base__2019 Done!\n"
     ]
    },
    {
     "data": {
      "text/plain": [
       "'../_site/data/scnData/v900__Base__2023/transit-route-names.json'"
      ]
     },
     "metadata": {},
     "output_type": "display_data"
    },
    {
     "name": "stdout",
     "output_type": "stream",
     "text": [
      "v900__Base__2023 Done!\n"
     ]
    },
    {
     "data": {
      "text/plain": [
       "'../_site/data/scnData/v900__TIP__2028/transit-route-names.json'"
      ]
     },
     "metadata": {},
     "output_type": "display_data"
    },
    {
     "name": "stdout",
     "output_type": "stream",
     "text": [
      "v900__TIP__2028 Done!\n"
     ]
    },
    {
     "data": {
      "text/plain": [
       "'../_site/data/scnData/v900__RTP__2032/transit-route-names.json'"
      ]
     },
     "metadata": {},
     "output_type": "display_data"
    },
    {
     "name": "stdout",
     "output_type": "stream",
     "text": [
      "v900__RTP__2032 Done!\n"
     ]
    },
    {
     "data": {
      "text/plain": [
       "'../_site/data/scnData/v900__RTP__2042/transit-route-names.json'"
      ]
     },
     "metadata": {},
     "output_type": "display_data"
    },
    {
     "name": "stdout",
     "output_type": "stream",
     "text": [
      "v900__RTP__2042 Done!\n"
     ]
    },
    {
     "data": {
      "text/plain": [
       "'../_site/data/scnData/v900__RTP__2050/transit-route-names.json'"
      ]
     },
     "metadata": {},
     "output_type": "display_data"
    },
    {
     "name": "stdout",
     "output_type": "stream",
     "text": [
      "v900__RTP__2050 Done!\n"
     ]
    },
    {
     "data": {
      "text/plain": [
       "'../_site/data/scnData/v900__NoBuild__2032/transit-route-names.json'"
      ]
     },
     "metadata": {},
     "output_type": "display_data"
    },
    {
     "name": "stdout",
     "output_type": "stream",
     "text": [
      "v900__NoBuild__2032 Done!\n"
     ]
    },
    {
     "data": {
      "text/plain": [
       "'../_site/data/scnData/v900__NoBuild__2042/transit-route-names.json'"
      ]
     },
     "metadata": {},
     "output_type": "display_data"
    },
    {
     "name": "stdout",
     "output_type": "stream",
     "text": [
      "v900__NoBuild__2042 Done!\n"
     ]
    },
    {
     "data": {
      "text/plain": [
       "'../_site/data/scnData/v900__NoBuild__2050/transit-route-names.json'"
      ]
     },
     "metadata": {},
     "output_type": "display_data"
    },
    {
     "name": "stdout",
     "output_type": "stream",
     "text": [
      "v900__NoBuild__2050 Done!\n"
     ]
    },
    {
     "data": {
      "text/plain": [
       "'../_site/data/scnData/v900__Needs__2032/transit-route-names.json'"
      ]
     },
     "metadata": {},
     "output_type": "display_data"
    },
    {
     "name": "stdout",
     "output_type": "stream",
     "text": [
      "v900__Needs__2032 Done!\n"
     ]
    },
    {
     "data": {
      "text/plain": [
       "'../_site/data/scnData/v900__Needs__2042/transit-route-names.json'"
      ]
     },
     "metadata": {},
     "output_type": "display_data"
    },
    {
     "name": "stdout",
     "output_type": "stream",
     "text": [
      "v900__Needs__2042 Done!\n"
     ]
    },
    {
     "data": {
      "text/plain": [
       "'../_site/data/scnData/v900__Needs__2050/transit-route-names.json'"
      ]
     },
     "metadata": {},
     "output_type": "display_data"
    },
    {
     "name": "stdout",
     "output_type": "stream",
     "text": [
      "v900__Needs__2050 Done!\n"
     ]
    },
    {
     "data": {
      "text/plain": [
       "'../_site/data/scnData/v900__Needs MAG__2050/transit-route-names.json'"
      ]
     },
     "metadata": {},
     "output_type": "display_data"
    },
    {
     "name": "stdout",
     "output_type": "stream",
     "text": [
      "v900__Needs MAG__2050 Done!\n"
     ]
    }
   ],
   "source": [
    "import pandas as pd\n",
    "import os\n",
    "import glob\n",
    "\n",
    "# Define the subfolder path\n",
    "subfolder_path = r'E:\\GitHub\\vizTool\\data\\transitSummaries\\segments'\n",
    "\n",
    "# Create list for route names\n",
    "_routesList = []\n",
    "\n",
    "_df_combined = pd.DataFrame()\n",
    "\n",
    "# Iterate through the scenarios\n",
    "for _, row in dfScn.iterrows():\n",
    "    \n",
    "    _scenarioCode = row['modVersion'] + '__' + row['scnGroup'] + '__' + str(row['scnYear'])\n",
    "\n",
    "    # Create temp list\n",
    "    _tempList = []\n",
    "    \n",
    "    # Read the CSV into a dataframe\n",
    "    _df = pd.read_csv(os.path.join(subfolder_path, row['modVersion'] + '__' + row['scnGroup'] + '__' + str(row['scnYear']) + \".csv\"), usecols=[\"Name\",\"LongName\",\"Mode\"])\n",
    "\n",
    "    _df.rename(columns={'Name':'value','LongName':'label','Mode':'subag'}, inplace=True)\n",
    "\n",
    "    _df = _df[['value','label','subag']]\n",
    "\n",
    "    _df_combined = pd.concat([_df_combined, _df])\n",
    "\n",
    "    _df = _df.drop_duplicates()\n",
    "\n",
    "    # Populate list of names\n",
    "    _tempList = _df['value'].values.tolist()\n",
    "        \n",
    "    \n",
    "    # Specify the desired file name\n",
    "    filename = '../_site/data/scnData/' + _scenarioCode + '/transit-route-names.json'\n",
    "    display(filename)\n",
    "    _df.to_json(filename, orient='records')\n",
    "\n",
    "    print(_scenarioCode + ' Done!')\n",
    "\n",
    "    #print(_tempList)\n",
    "    #_routesList = pd.concat(_routesList,_tempList)\n",
    "    #test = '_site/data/scnData/' + _scenarioCode + '/transit-route-names-all.json'\n",
    "    #_tempList.to_json(test, orient = 'records')\n",
    "    #del _tempListW\n",
    "\n",
    "    \n"
   ]
  },
  {
   "cell_type": "code",
   "execution_count": null,
   "metadata": {},
   "outputs": [],
   "source": [
    "import pandas as pd\n",
    "\n",
    "# Group by the 'value' column, concatenate 'label', and prepare 'subag' as a list of strings with \"All\" as the first item\n",
    "result_df = _df_combined.groupby('value').agg({\n",
    "    'label': lambda x: ' '.join(x.unique()),\n",
    "    'subag': lambda x: [\"All\"] + [str(int(val)) for val in x.unique()]\n",
    "}).reset_index()\n",
    "\n",
    "# Print the resulting DataFrame to see the 'subag' list with quotations\n",
    "display(result_df)\n"
   ]
  },
  {
   "cell_type": "code",
   "execution_count": 24,
   "metadata": {},
   "outputs": [
    {
     "data": {
      "text/plain": [
       "'../_site/data/transit-route-names.json'"
      ]
     },
     "metadata": {},
     "output_type": "display_data"
    },
    {
     "name": "stdout",
     "output_type": "stream",
     "text": [
      "All Done!\n",
      "[]\n",
      "['Sline_Mill', 'BRT1300E_T', '1300So', '1700So', '200So_2', 'BRT_2700W_T', '300W', 'BRT3533S_Core', '3900S', '500E_2', '5400S', 'BRT56_R', 'BRT62S_T1', '900E_2', '900So', 'Cedar_Exp', 'CG_BRT_S1', 'Core_CedarLehi', 'Core_Nebo', 'Core_Maple', 'Core_State850', '7800FtUn_3', 'D460', 'D461', 'D462', 'Red', 'BRT123RD_A', 'Blue', 'BRT104th_2', 'BRTNSDA_R', 'FD605', 'FthlDr2100', 'HinckleyUnion', 'Orange', 'LakePark', 'MAG_LRT', 'LittleCott', 'M805_Santaquin', 'M806_EglMtn', 'M807_NoCnty', 'M809_AM-PG', 'M821_5YR2023', 'M821_Psn', 'M822_Psn', 'M823_5RY2023', 'M830X_ARPT', 'M831_WPr', 'M833_CntPr', 'M834_EstPr', 'M841_UVU', 'M850_StateStreet', 'M862_Orem', 'M864_ThanksgivingPnt', 'M871_SLtoUtahCnty', 'MF809', 'BRT3500S', 'MidValCon', 'MTTrolley', 'BRTNRedwd_T', 'O600', 'O601', 'O603', 'O604', 'O606', 'O607', 'O608', 'O609', 'O612', 'O613', 'O614', 'O615', 'O616', 'O625', 'O626', 'O627', 'O628', 'O630', 'O640', 'O645', 'O650', 'O667', 'OF605', 'OF618', 'OF620', 'OF638', 'RCRT_OGPN', 'Clear', 'PlsntClear', 'BRTRdwd_T', 'BRTRdwd_South', 'ClearRoyWest', 'BRTWash_R', 'S002', 'S003', 'S004', 'S006', 'S009', 'S011', 'S017', 'S021', 'S033', 'S035', 'S039', 'S041', 'S045', 'S047', 'S054', 'S062', 'S072', 'S1', 'S200', 'S201', 'S205', 'S209', 'S213', 'S217', 'S218', 'S220', 'S223', 'S227', 'S232', 'S236', 'S240', 'S248', 'S2X', 'S307X', 'S31', 'S313X', 'S320X', 'S354X', 'S451X', 'S454', 'S455', 'S456', 'S463', 'S470', 'S471', 'S472X', 'S473X', 'S509', 'S513', 'S519/520', 'S525', 'S526', 'S551', 'SF11', 'SF202', 'SF232', 'SF453', 'SF504', 'SF514', 'SF518', 'SF522', 'SF525', 'SF534', 'SF546', 'SF547', 'SF556', 'SF570', 'SF578', 'SF590', 'SF94', 'BRTFTHLWA_N', 'Santaquin_Exp', 'ShldSego_3', 'SoJoSandyC', 'StGrid_2', 'StGrid_2_BRT', 'StGrid_2_Core', 'Sline', 'RGRANSUG_U', 'UVX', 'BRT_VinOrm', 'Green']\n"
     ]
    }
   ],
   "source": [
    "# Specify the desired file name\n",
    "filename = '../_site/data/transit-route-names.json'\n",
    "display(filename)\n",
    "\n",
    "\n",
    "result_df = result_df.sort_values(by='label')\n",
    "\n",
    "result_df.to_json(filename, orient='records', indent=2)\n",
    "\n",
    "\n",
    "# Populate list of names\n",
    "_tempList = result_df['value'].drop_duplicates().values.tolist()\n",
    "        \n",
    "\n",
    "print('All Done!')\n",
    "print (_routesList)\n",
    "\n",
    "print(_tempList)"
   ]
  },
  {
   "cell_type": "code",
   "execution_count": 12,
   "metadata": {},
   "outputs": [
    {
     "data": {
      "text/html": [
       "<div>\n",
       "<style scoped>\n",
       "    .dataframe tbody tr th:only-of-type {\n",
       "        vertical-align: middle;\n",
       "    }\n",
       "\n",
       "    .dataframe tbody tr th {\n",
       "        vertical-align: top;\n",
       "    }\n",
       "\n",
       "    .dataframe thead th {\n",
       "        text-align: right;\n",
       "    }\n",
       "</style>\n",
       "<table border=\"1\" class=\"dataframe\">\n",
       "  <thead>\n",
       "    <tr style=\"text-align: right;\">\n",
       "      <th></th>\n",
       "      <th>value</th>\n",
       "      <th>label</th>\n",
       "      <th>subag</th>\n",
       "    </tr>\n",
       "  </thead>\n",
       "  <tbody>\n",
       "    <tr>\n",
       "      <th>2122</th>\n",
       "      <td>BRT1300E_T</td>\n",
       "      <td>1300 East Corridor</td>\n",
       "      <td>5.0</td>\n",
       "    </tr>\n",
       "    <tr>\n",
       "      <th>3774</th>\n",
       "      <td>Sline_Mill</td>\n",
       "      <td>1300 East Corridor</td>\n",
       "      <td>7.0</td>\n",
       "    </tr>\n",
       "    <tr>\n",
       "      <th>3064</th>\n",
       "      <td>Sline_Mill</td>\n",
       "      <td>1300 East Corridor</td>\n",
       "      <td>5.0</td>\n",
       "    </tr>\n",
       "    <tr>\n",
       "      <th>0</th>\n",
       "      <td>1300So</td>\n",
       "      <td>1300 South</td>\n",
       "      <td>4.0</td>\n",
       "    </tr>\n",
       "    <tr>\n",
       "      <th>1746</th>\n",
       "      <td>1700So</td>\n",
       "      <td>1700 South</td>\n",
       "      <td>5.0</td>\n",
       "    </tr>\n",
       "    <tr>\n",
       "      <th>...</th>\n",
       "      <td>...</td>\n",
       "      <td>...</td>\n",
       "      <td>...</td>\n",
       "    </tr>\n",
       "    <tr>\n",
       "      <th>3704</th>\n",
       "      <td>RGRANSUG_U</td>\n",
       "      <td>Sugarhouse Streetcar to SLC</td>\n",
       "      <td>7.0</td>\n",
       "    </tr>\n",
       "    <tr>\n",
       "      <th>3551</th>\n",
       "      <td>UVX</td>\n",
       "      <td>UVX</td>\n",
       "      <td>9.0</td>\n",
       "    </tr>\n",
       "    <tr>\n",
       "      <th>3322</th>\n",
       "      <td>UVX</td>\n",
       "      <td>UVX University Pkwy/Ave</td>\n",
       "      <td>9.0</td>\n",
       "    </tr>\n",
       "    <tr>\n",
       "      <th>3260</th>\n",
       "      <td>BRT_VinOrm</td>\n",
       "      <td>UVX University Pkwy/Ave</td>\n",
       "      <td>9.0</td>\n",
       "    </tr>\n",
       "    <tr>\n",
       "      <th>3382</th>\n",
       "      <td>Green</td>\n",
       "      <td>WVC to SLC CBD to SLC Airport LRT</td>\n",
       "      <td>7.0</td>\n",
       "    </tr>\n",
       "  </tbody>\n",
       "</table>\n",
       "<p>181 rows × 3 columns</p>\n",
       "</div>"
      ],
      "text/plain": [
       "           value                              label  subag\n",
       "2122  BRT1300E_T                 1300 East Corridor    5.0\n",
       "3774  Sline_Mill                 1300 East Corridor    7.0\n",
       "3064  Sline_Mill                 1300 East Corridor    5.0\n",
       "0         1300So                         1300 South    4.0\n",
       "1746      1700So                         1700 South    5.0\n",
       "...          ...                                ...    ...\n",
       "3704  RGRANSUG_U        Sugarhouse Streetcar to SLC    7.0\n",
       "3551         UVX                                UVX    9.0\n",
       "3322         UVX            UVX University Pkwy/Ave    9.0\n",
       "3260  BRT_VinOrm            UVX University Pkwy/Ave    9.0\n",
       "3382       Green  WVC to SLC CBD to SLC Airport LRT    7.0\n",
       "\n",
       "[181 rows x 3 columns]"
      ]
     },
     "execution_count": 12,
     "metadata": {},
     "output_type": "execute_result"
    }
   ],
   "source": [
    "_df_combined"
   ]
  },
  {
   "cell_type": "code",
   "execution_count": 22,
   "metadata": {},
   "outputs": [
    {
     "data": {
      "text/html": [
       "<div>\n",
       "<style scoped>\n",
       "    .dataframe tbody tr th:only-of-type {\n",
       "        vertical-align: middle;\n",
       "    }\n",
       "\n",
       "    .dataframe tbody tr th {\n",
       "        vertical-align: top;\n",
       "    }\n",
       "\n",
       "    .dataframe thead th {\n",
       "        text-align: right;\n",
       "    }\n",
       "</style>\n",
       "<table border=\"1\" class=\"dataframe\">\n",
       "  <thead>\n",
       "    <tr style=\"text-align: right;\">\n",
       "      <th></th>\n",
       "      <th>value</th>\n",
       "      <th>label</th>\n",
       "      <th>subag</th>\n",
       "    </tr>\n",
       "  </thead>\n",
       "  <tbody>\n",
       "    <tr>\n",
       "      <th>0</th>\n",
       "      <td>1300So</td>\n",
       "      <td>1300 South</td>\n",
       "      <td>[All, 4]</td>\n",
       "    </tr>\n",
       "    <tr>\n",
       "      <th>1</th>\n",
       "      <td>1700So</td>\n",
       "      <td>1700 South</td>\n",
       "      <td>[All, 5]</td>\n",
       "    </tr>\n",
       "    <tr>\n",
       "      <th>2</th>\n",
       "      <td>200So_2</td>\n",
       "      <td>200 South - 200So_Core as BRT</td>\n",
       "      <td>[All, 9]</td>\n",
       "    </tr>\n",
       "    <tr>\n",
       "      <th>3</th>\n",
       "      <td>300W</td>\n",
       "      <td>300 West Corridor</td>\n",
       "      <td>[All, 5]</td>\n",
       "    </tr>\n",
       "    <tr>\n",
       "      <th>4</th>\n",
       "      <td>3900S</td>\n",
       "      <td>3900 S/4100 S Corridor</td>\n",
       "      <td>[All, 5]</td>\n",
       "    </tr>\n",
       "    <tr>\n",
       "      <th>...</th>\n",
       "      <td>...</td>\n",
       "      <td>...</td>\n",
       "      <td>...</td>\n",
       "    </tr>\n",
       "    <tr>\n",
       "      <th>169</th>\n",
       "      <td>SoJoSandyC</td>\n",
       "      <td>South Jordan/Sandy Circulator</td>\n",
       "      <td>[All, 5]</td>\n",
       "    </tr>\n",
       "    <tr>\n",
       "      <th>170</th>\n",
       "      <td>StGrid_2</td>\n",
       "      <td>State Street Corridor</td>\n",
       "      <td>[All, 5]</td>\n",
       "    </tr>\n",
       "    <tr>\n",
       "      <th>171</th>\n",
       "      <td>StGrid_2_BRT</td>\n",
       "      <td>State Street Corridor - BRT</td>\n",
       "      <td>[All, 9]</td>\n",
       "    </tr>\n",
       "    <tr>\n",
       "      <th>172</th>\n",
       "      <td>StGrid_2_Core</td>\n",
       "      <td>State Street Corridor - Core</td>\n",
       "      <td>[All, 5]</td>\n",
       "    </tr>\n",
       "    <tr>\n",
       "      <th>173</th>\n",
       "      <td>UVX</td>\n",
       "      <td>UVX UVX University Pkwy/Ave</td>\n",
       "      <td>[All, 9]</td>\n",
       "    </tr>\n",
       "  </tbody>\n",
       "</table>\n",
       "<p>174 rows × 3 columns</p>\n",
       "</div>"
      ],
      "text/plain": [
       "             value                          label     subag\n",
       "0           1300So                     1300 South  [All, 4]\n",
       "1           1700So                     1700 South  [All, 5]\n",
       "2          200So_2  200 South - 200So_Core as BRT  [All, 9]\n",
       "3             300W              300 West Corridor  [All, 5]\n",
       "4            3900S         3900 S/4100 S Corridor  [All, 5]\n",
       "..             ...                            ...       ...\n",
       "169     SoJoSandyC  South Jordan/Sandy Circulator  [All, 5]\n",
       "170       StGrid_2          State Street Corridor  [All, 5]\n",
       "171   StGrid_2_BRT    State Street Corridor - BRT  [All, 9]\n",
       "172  StGrid_2_Core   State Street Corridor - Core  [All, 5]\n",
       "173            UVX    UVX UVX University Pkwy/Ave  [All, 9]\n",
       "\n",
       "[174 rows x 3 columns]"
      ]
     },
     "metadata": {},
     "output_type": "display_data"
    }
   ],
   "source": [
    "\n"
   ]
  }
 ],
 "metadata": {
  "kernelspec": {
   "display_name": "base",
   "language": "python",
   "name": "python3"
  },
  "language_info": {
   "codemirror_mode": {
    "name": "ipython",
    "version": 3
   },
   "file_extension": ".py",
   "mimetype": "text/x-python",
   "name": "python",
   "nbconvert_exporter": "python",
   "pygments_lexer": "ipython3",
   "version": "3.9.13"
  }
 },
 "nbformat": 4,
 "nbformat_minor": 2
}
